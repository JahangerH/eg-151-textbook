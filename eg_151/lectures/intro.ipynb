{
 "cells": [
  {
   "cell_type": "markdown",
   "id": "2e9a7926",
   "metadata": {
    "slideshow": {
     "slide_type": "slide"
    },
    "tags": []
   },
   "source": [
    "(welcome)=\n",
    "# Croeso i Brifysgol Abertawe | Welcome to Swansea University\n",
    "\n",
    "## EG-151 Microcontrollers\n",
    "\n",
    "![](pictures/image1.png)"
   ]
  },
  {
   "cell_type": "markdown",
   "id": "d72cc9f0",
   "metadata": {
    "@deathbeds/jupyterlab-fonts": {
     "styles": {
      "": {
       "body[data-jp-deck-mode='presenting'] &": {
        "height": "5.1237175020120915%",
        "left": "4.470814511246321%",
        "position": "fixed",
        "top": "9.823113780910687%",
        "width": "92.02569273154042%"
       }
      }
     }
    },
    "slideshow": {
     "slide_type": "slide"
    },
    "tags": []
   },
   "source": [
    "(welcome:module_staff)=\n",
    "## Module Staff"
   ]
  },
  {
   "cell_type": "markdown",
   "id": "4afe4176",
   "metadata": {
    "@deathbeds/jupyterlab-fonts": {
     "styles": {
      "": {
       "body[data-jp-deck-mode='presenting'] &": {
        "height": "60.32838983050848%",
        "left": "8.692896818069915%",
        "position": "fixed",
        "top": "19.835805084745765%",
        "width": "82.58708764155588%"
       }
      }
     }
    },
    "slideshow": {
     "slide_type": "slide"
    },
    "tags": []
   },
   "source": [
    "(welcome:staff:chris)=\n",
    "###  Dr Chris Jobling\n",
    "\n",
    "```{image} pictures/chris.jpg\n",
    ":alt: A photograph of Dr Chris Jobling\n",
    ":width: 25%\n",
    "```\n",
    "\n",
    "**Module Coordinator**\n",
    "\n",
    "[c.p.jobling@swansea.ac.uk](mailto:c.p.jobling@swansea.ac.uk)\n",
    "\n",
    "Office Hour: Mondays 11:30 on Zoom. (From Monday 9th October)\n",
    "\n",
    "Office: Engineering East, B206"
   ]
  },
  {
   "cell_type": "markdown",
   "id": "7c25a256",
   "metadata": {
    "@deathbeds/jupyterlab-fonts": {
     "styles": {
      "": {
       "body[data-jp-deck-mode='presenting'] &": {
        "height": null,
        "left": null,
        "position": null,
        "top": null,
        "width": null
       }
      }
     }
    },
    "slideshow": {
     "slide_type": "slide"
    },
    "tags": []
   },
   "source": [
    "(welcome:staff:ben)=\n",
    "### Dr Ben Clifford\n",
    "\n",
    "```{image} pictures/ben.png\n",
    ":alt: A photograph of Dr Ben Clifford\n",
    ":width: 35%\n",
    "```\n",
    "\n",
    "**Guest Lecturer**"
   ]
  },
  {
   "cell_type": "markdown",
   "id": "3d4ae472",
   "metadata": {
    "@deathbeds/jupyterlab-fonts": {
     "styles": {
      "": {
       "body[data-jp-deck-mode='presenting'] &": {
        "height": "63.46780162746624%",
        "left": "7.661581737535308%",
        "position": "fixed",
        "top": "8.342814849594891%",
        "width": "82.5608999542489%"
       }
      }
     }
    },
    "slideshow": {
     "slide_type": "slide"
    },
    "tags": []
   },
   "source": [
    "(welcome:staff:timothy)=\n",
    "###  Dr Timothy Davies\n",
    "\n",
    "```{image} pictures/tim.jpg\n",
    ":alt: A photograph of Dr Timothy Davies\n",
    ":width: \"35%\"\n",
    "```\n",
    "\n",
    "**Guest Lecturer**\n",
    "\n",
    "[t.davies@swansea.ac.uk](mailto:t.davies@swansea.ac.uk)"
   ]
  },
  {
   "cell_type": "markdown",
   "id": "b20e94a0",
   "metadata": {
    "slideshow": {
     "slide_type": "slide"
    },
    "tags": []
   },
   "source": [
    "(welcome:course_site)=\n",
    "## Course Site\n",
    "\n",
    "The home page for this course is \"2324_EG-151_Microcontrollers\" on your Canvas dashboard\n",
    "\n",
    "```{image} pictures/image8.png\n",
    ":alt: The course entry page on Canvas dashboard\n",
    ":width: 100%\n",
    "```\n",
    "\n",
    "[canvas.swansea.ac.uk/courses/44971](https://canvas.swansea.ac.uk/courses/44971)"
   ]
  },
  {
   "cell_type": "markdown",
   "id": "4955c557",
   "metadata": {
    "@deathbeds/jupyterlab-fonts": {
     "styles": {
      "": {
       "body[data-jp-deck-mode='presenting'] &": {
        "height": null,
        "left": null,
        "position": null,
        "top": null,
        "width": null
       }
      }
     }
    },
    "slideshow": {
     "slide_type": "slide"
    },
    "tags": []
   },
   "source": [
    "(welcome:course_delivery)=\n",
    "## Course Delivery\n",
    "\n",
    "-   Lecture Class\n",
    "\n",
    "    -   Tuesday 11:00 &ndash; 11:50\n",
    "\n",
    "    -   School of Management, Room 011"
   ]
  },
  {
   "cell_type": "markdown",
   "id": "18e76591",
   "metadata": {
    "@deathbeds/jupyterlab-fonts": {
     "styles": {
      "": {
       "body[data-jp-deck-mode='presenting'] &": {
        "height": null,
        "left": null,
        "position": null,
        "top": null,
        "width": null
       }
      }
     }
    },
    "slideshow": {
     "slide_type": "fragment"
    },
    "tags": []
   },
   "source": [
    "-   Laboratory class\n",
    "\n",
    "    -   Thursday 9:00 &ndash; 11:00, Friday 10:00  &ndash; 12:00\n",
    "\n",
    "    -   Engineering East, Room B107 Electronics Lab"
   ]
  },
  {
   "cell_type": "markdown",
   "id": "4915d8c5",
   "metadata": {
    "@deathbeds/jupyterlab-fonts": {
     "styles": {
      "": {
       "body[data-jp-deck-mode='presenting'] &": {
        "height": null,
        "left": null,
        "position": null,
        "top": null,
        "width": null
       }
      }
     }
    },
    "slideshow": {
     "slide_type": "fragment"
    },
    "tags": []
   },
   "source": [
    "-   Self Directed Learning (50 Hours over 10 Weeks)\n",
    "\n",
    "    -   Review lecture material and supporting content\n",
    "\n",
    "    -   Online activities including quizzes and discussion forums"
   ]
  },
  {
   "cell_type": "markdown",
   "id": "f54e85ce",
   "metadata": {
    "slideshow": {
     "slide_type": "slide"
    },
    "tags": []
   },
   "source": [
    "(wlecome:course_overview)=\n",
    "## Course Overview\n",
    "\n",
    "This course is made up of lectures which introduce the basics of microcontroller architecture and operation,"
   ]
  },
  {
   "cell_type": "markdown",
   "id": "ed17a1cf",
   "metadata": {
    "slideshow": {
     "slide_type": "slide"
    },
    "tags": []
   },
   "source": [
    "### Course syllabus\n",
    "\n",
    "Applications of microcontrollers, and programming in both assembly and 'C' languages.The lectures will be supported by a series of practical sessions where you will learn how to implement the lecture content to commission simple programs on an Arduino microcontroller."
   ]
  },
  {
   "cell_type": "markdown",
   "id": "a9030b47",
   "metadata": {
    "jp-MarkdownHeadingCollapsed": true,
    "slideshow": {
     "slide_type": "slide"
    },
    "tags": []
   },
   "source": [
    "### Key Topics\n",
    "\n",
    "-   Microcontroller fundamentals and architecture.\n",
    "\n",
    "-   Microcontroller programming: instruction execution; basic instructions.\n",
    "\n",
    "-   Software design and development tools.\n",
    "\n",
    "-   Assembly and C programming languages,"
   ]
  },
  {
   "cell_type": "markdown",
   "id": "6a4a0e41",
   "metadata": {
    "slideshow": {
     "slide_type": "slide"
    },
    "tags": []
   },
   "source": [
    "(welcome:course_assessment)=\n",
    "### Course Assessment\n",
    "\n",
    "There are four formal assessment components to this course:"
   ]
  },
  {
   "cell_type": "markdown",
   "id": "9492d6e1",
   "metadata": {
    "slideshow": {
     "slide_type": "fragment"
    },
    "tags": []
   },
   "source": [
    "1.  **Lab introduction exercise** &ndash; 15%\n",
    "\n",
    "    -   During the first two weeks of term, the laboratory will be used\n",
    "        for a laboratory introduction exercise covering health and\n",
    "        safety, a breadboard construction exercise, a simulation\n",
    "        exercise and a soldering exercise.The laboratory introduction is\n",
    "        COMPULSORY and must be passed if a student is to work in the\n",
    "        laboratory."
   ]
  },
  {
   "cell_type": "markdown",
   "id": "de0be4ae",
   "metadata": {
    "slideshow": {
     "slide_type": "fragment"
    },
    "tags": []
   },
   "source": [
    "2.  **Five short 'C' language programming exercises** &ndash; 20% (5% each)\n",
    "\n",
    "    -   An example program will be provided which students are expected\n",
    "        to modify so as it performs the required functions. The 4\n",
    "        exercises involve creating a binary counter, reading a digital\n",
    "        input, reading an analogue input and working with arrays.\n",
    "        Assessment will be through submission of a lab diary containing\n",
    "        the modified and commented code, a flow chart and a description\n",
    "        of the changes made. Submission will be through the Turnitin\n",
    "        platform."
   ]
  },
  {
   "cell_type": "markdown",
   "id": "d3356b6e",
   "metadata": {
    "slideshow": {
     "slide_type": "fragment"
    },
    "tags": []
   },
   "source": [
    "3.  **A mini project** &ndash; 30%\n",
    "\n",
    "    -   The mini project will require each student to create a program\n",
    "        to achieve a certain task making use of the knowledge gained\n",
    "        during the lectures and four lab exercises. Assessment will be\n",
    "        through submission of a lab diary containing the modified and\n",
    "        commented code, a flow chart and a description of the changes\n",
    "        made. Submission will be through the Turnitin platform."
   ]
  },
  {
   "cell_type": "markdown",
   "id": "d449fd58",
   "metadata": {
    "slideshow": {
     "slide_type": "fragment"
    },
    "tags": []
   },
   "source": [
    "4.  **Formal Class Test**  &ndash; 35%\n",
    "\n",
    "    -   The class test will be online and based on content covered in the\n",
    "        lectures and laboratory sessions.These questions will be similar\n",
    "        to those presented in each weekly quiz. For the practical\n",
    "        assessment marks to count, you must achieve at least 30% in the\n",
    "        Formal Test.You will have one attempt to redeem a failure before\n",
    "        the end of semester 1. If you achieve less than 30% after this,\n",
    "        then the course mark will be just the Class Test mark and you\n",
    "        will be required to sit a supplementary exam in August."
   ]
  },
  {
   "cell_type": "markdown",
   "id": "20447186",
   "metadata": {
    "slideshow": {
     "slide_type": "fragment"
    },
    "tags": []
   },
   "source": [
    "**Additionally, to pass this course you must achieve at least 40% in each component and have an 80% attendance rate at both lectures and laboratory classes**."
   ]
  }
 ],
 "metadata": {
  "celltoolbar": "Slideshow",
  "kernelspec": {
   "display_name": "Python 3 (ipykernel)",
   "language": "python",
   "name": "python3"
  },
  "language_info": {
   "codemirror_mode": {
    "name": "ipython",
    "version": 3
   },
   "file_extension": ".py",
   "mimetype": "text/x-python",
   "name": "python",
   "nbconvert_exporter": "python",
   "pygments_lexer": "ipython3",
   "version": "3.11.5"
  },
  "toc-autonumbering": false,
  "toc-showcode": false,
  "toc-showmarkdowntxt": false,
  "toc-showtags": false
 },
 "nbformat": 4,
 "nbformat_minor": 5
}
